{
 "cells": [
  {
   "cell_type": "code",
   "execution_count": 46,
   "id": "497036ae-3a35-487a-a8e5-86f4b642f5fb",
   "metadata": {},
   "outputs": [],
   "source": [
    "import pandas as pd"
   ]
  },
  {
   "cell_type": "code",
   "execution_count": 10,
   "id": "5161ff4c-9e69-48de-99cd-6bc4bb07e8c5",
   "metadata": {},
   "outputs": [
    {
     "name": "stdout",
     "output_type": "stream",
     "text": [
      "updated List: [10, 2, 'hi', 4, 5, 6]\n"
     ]
    }
   ],
   "source": [
    "#creating a list\n",
    "my_list = [1,2,3,4,5]\n",
    "\n",
    "#adding an element to the list\n",
    "my_list.append(6)\n",
    "\n",
    "#removing an element from the list\n",
    "my_list.remove(3)\n",
    "\n",
    "#modifying an element in the list\n",
    "my_list[0] = 10\n",
    "\n",
    "#inserting an element in our list\n",
    "my_list.insert(2, \"hi\")\n",
    "\n",
    "print(\"updated List:\" , my_list)"
   ]
  },
  {
   "cell_type": "code",
   "execution_count": 18,
   "id": "a662ac47-aaba-4374-9533-e7cad09ccff9",
   "metadata": {},
   "outputs": [
    {
     "name": "stdout",
     "output_type": "stream",
     "text": [
      "updated Dictionary: {'name': 'John', 'city': 'mumbai', 'gender': 'Male'}\n"
     ]
    }
   ],
   "source": [
    "#creating a dictionary\n",
    "my_dict = {'name': 'John', 'age': 25, 'city': 'Delhi'}\n",
    "\n",
    "#adding a key-value pair to the dictionary\n",
    "my_dict['gender'] = 'Male'\n",
    "\n",
    "#removing a key-value pair from dictionary\n",
    "del my_dict['age']\n",
    "\n",
    "#modifying a value in the dictionary\n",
    "my_dict['city'] = 'mumbai'\n",
    "\n",
    "print(\"updated Dictionary:\" ,my_dict)"
   ]
  },
  {
   "cell_type": "code",
   "execution_count": 21,
   "id": "c6cd9189-6999-4e05-8e6c-535f6011808c",
   "metadata": {},
   "outputs": [
    {
     "name": "stdout",
     "output_type": "stream",
     "text": [
      "(1, 2, 5)\n"
     ]
    }
   ],
   "source": [
    "#original tuple\n",
    "original_tuple = (1, 2, 3)\n",
    "\n",
    "#adding a new element to the tuple\n",
    "new_element = 4\n",
    "updated_tuple = original_tuple + (new_element,)\n",
    "\n",
    "#removing an element from the tuple \n",
    "updated_tuple = original_tuple[:1] + original_tuple[2:]\n",
    "\n",
    "#modifying an element in the tuple\n",
    "modified_element = 5\n",
    "updated_tuple = original_tuple[:2] + (modified_element,) + original_tuple[3:]\n",
    "\n",
    "print(updated_tuple)"
   ]
  },
  {
   "cell_type": "code",
   "execution_count": null,
   "id": "24188900-2a2a-41fa-9b20-01728f145f03",
   "metadata": {
    "scrolled": true
   },
   "outputs": [],
   "source": [
    "my_tuple = (1,2,3,4)\n",
    "\n",
    "add_tuple\n",
    "update_tuple = my_tuple[:2] + my_tuple[3:]\n",
    "\n",
    "print(update_tuple)"
   ]
  },
  {
   "cell_type": "code",
   "execution_count": null,
   "id": "f6c4dbc2-a01e-477c-9380-c5c3ed40eab5",
   "metadata": {},
   "outputs": [],
   "source": []
  }
 ],
 "metadata": {
  "kernelspec": {
   "display_name": "Python 3 (ipykernel)",
   "language": "python",
   "name": "python3"
  },
  "language_info": {
   "codemirror_mode": {
    "name": "ipython",
    "version": 3
   },
   "file_extension": ".py",
   "mimetype": "text/x-python",
   "name": "python",
   "nbconvert_exporter": "python",
   "pygments_lexer": "ipython3",
   "version": "3.12.4"
  }
 },
 "nbformat": 4,
 "nbformat_minor": 5
}
